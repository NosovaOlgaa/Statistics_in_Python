{
 "cells": [
  {
   "cell_type": "markdown",
   "metadata": {},
   "source": [
    "Смоделировать игру против лотерейного автомата типа “777”. Игрок платит 1 руб., после чего выпадает случайное целое число, равномерно распределенное от 0 до 999. При некоторых значениях числа игрок получает выигрыш.\n",
    "\n",
    "777: 200 руб.\n",
    "999: 100 руб.\n",
    "555: 50 руб.\n",
    "333: 15 руб.\n",
    "111: 10 руб.\n",
    "*77: 5 руб.\n",
    "**7: 3 руб.\n",
    "*00: 2 руб.\n",
    "**0: 1 руб.\n",
    "\n",
    "Вопросы:\n",
    "\n",
    "Выгодна ли игра игроку?\n",
    "\n",
    "Сколько в среднем приобретает или теряет игрок за одну игру?"
   ]
  },
  {
   "cell_type": "code",
   "execution_count": 2,
   "metadata": {},
   "outputs": [],
   "source": [
    "import pandas as pd\n",
    "import numpy as np"
   ]
  },
  {
   "cell_type": "code",
   "execution_count": 44,
   "metadata": {},
   "outputs": [],
   "source": [
    "scroll = 1000000\n",
    "loss = 0\n",
    "balance = []\n",
    "\n",
    "for i in range(scroll):\n",
    "    random_score = np.random.randint(0, 1000)\n",
    "    if random_score == 777:\n",
    "        balance.append(200)\n",
    "    elif random_score == 999:\n",
    "        balance.append(100)\n",
    "    elif random_score == 555:\n",
    "        balance.append(50)\n",
    "    elif random_score == 333:\n",
    "        balance.append(15)\n",
    "    elif random_score == 111:\n",
    "        balance.append(10)\n",
    "    elif random_score % 100 == 77:\n",
    "        balance.append(5)\n",
    "    elif random_score % 10 == 7:\n",
    "        balance.append(3)\n",
    "    elif random_score % 100 == 0:\n",
    "        balance.append(2)\n",
    "    elif random_score % 10 == 0:\n",
    "        balance.append(1)\n",
    "\n",
    "result = sum(balance) - scroll\n",
    "p_win = len(balance) / scroll\n",
    "p_loss = loss / scroll"
   ]
  },
  {
   "cell_type": "code",
   "execution_count": 21,
   "metadata": {},
   "outputs": [],
   "source": [
    "p_777 = 1/1000 #вероятность выпадения комбинации 777\n",
    "p_999 = 1/1000 #вероятность выпадения комбинации 999\n",
    "p_555 = 1/1000 #вероятность выпадения комбинации 555\n",
    "p_333 = 1/1000 #вероятность выпадения комбинации 333\n",
    "p_111 = 1/1000 #вероятность выпадения комбинации 111"
   ]
  },
  {
   "cell_type": "code",
   "execution_count": 11,
   "metadata": {},
   "outputs": [
    {
     "data": {
      "text/plain": [
       "0.01"
      ]
     },
     "execution_count": 11,
     "metadata": {},
     "output_type": "execute_result"
    }
   ],
   "source": [
    "list_77 = [\n",
    "    i for i in range(0,1000)\n",
    "    if i%100 == 77]\n",
    "\n",
    "p_77 = len(list_77) / 1000 #вероятность выпадения комбинаций *77"
   ]
  },
  {
   "cell_type": "code",
   "execution_count": 12,
   "metadata": {},
   "outputs": [
    {
     "data": {
      "text/plain": [
       "0.1"
      ]
     },
     "execution_count": 12,
     "metadata": {},
     "output_type": "execute_result"
    }
   ],
   "source": [
    "list_7 = [\n",
    "    i for i in range(0,1000)\n",
    "    if i%10 == 7]\n",
    "\n",
    "p_7 = len(list_7) / 1000 #вероятность выпадения комбинаций **7"
   ]
  },
  {
   "cell_type": "code",
   "execution_count": 19,
   "metadata": {},
   "outputs": [
    {
     "data": {
      "text/plain": [
       "0.01"
      ]
     },
     "execution_count": 19,
     "metadata": {},
     "output_type": "execute_result"
    }
   ],
   "source": [
    "list_00 = [\n",
    "    i for i in range(0,1000)\n",
    "    if i%100 == 0]\n",
    "\n",
    "p_00 = len(list_00) / 1000 #вероятность выпадения комбинаций *00"
   ]
  },
  {
   "cell_type": "code",
   "execution_count": 18,
   "metadata": {},
   "outputs": [
    {
     "data": {
      "text/plain": [
       "0.1"
      ]
     },
     "execution_count": 18,
     "metadata": {},
     "output_type": "execute_result"
    }
   ],
   "source": [
    "list_0 = [\n",
    "    i for i in range(0,1000)\n",
    "    if i%10 == 0]\n",
    "\n",
    "p_0 = len(list_0) / 1000 #вероятность выпадения комбинаций **0"
   ]
  },
  {
   "cell_type": "code",
   "execution_count": 41,
   "metadata": {},
   "outputs": [
    {
     "data": {
      "text/plain": [
       "'С одной игры игрок получит 0.85 руб., т.е. будет играть себе в минус'"
      ]
     },
     "execution_count": 41,
     "metadata": {},
     "output_type": "execute_result"
    }
   ],
   "source": [
    "expectation = (200 * p_777) + (100 * p_999) + (50 * p_555) + (15 * p_333) + (10 * p_111) + (5 * p_77) + (3 * p_7) + (2 * p_00) + (1 * p_0)\n",
    "\n",
    "f'С одной игры игрок получит {round((expectation),2)} руб., т.е. будет играть себе в минус'"
   ]
  },
  {
   "cell_type": "code",
   "execution_count": 50,
   "metadata": {},
   "outputs": [
    {
     "name": "stdout",
     "output_type": "stream",
     "text": [
      "При этом, проигрывать игрок будет тем больше, чем больше будет делать попыток.\n"
     ]
    },
    {
     "data": {
      "text/plain": [
       "'При 1000000 попыток вероятность выигрыша составит 20.45 % (-207891 руб.). Вывод: Играть не стоит - не выгодно'"
      ]
     },
     "execution_count": 50,
     "metadata": {},
     "output_type": "execute_result"
    }
   ],
   "source": [
    "print('При этом, проигрывать игрок будет тем больше, чем больше будет делать попыток.')\n",
    "\n",
    "f'При {scroll} попыток вероятность выигрыша составит {round((p_win*100),2)} % ({result} руб.). Вывод: Играть не стоит - не выгодно'"
   ]
  }
 ],
 "metadata": {
  "kernelspec": {
   "display_name": "Python 3",
   "language": "python",
   "name": "python3"
  },
  "language_info": {
   "codemirror_mode": {
    "name": "ipython",
    "version": 3
   },
   "file_extension": ".py",
   "mimetype": "text/x-python",
   "name": "python",
   "nbconvert_exporter": "python",
   "pygments_lexer": "ipython3",
   "version": "3.8.5"
  }
 },
 "nbformat": 4,
 "nbformat_minor": 4
}
